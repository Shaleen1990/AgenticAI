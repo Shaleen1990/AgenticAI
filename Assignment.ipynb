{
 "cells": [
  {
   "cell_type": "markdown",
   "id": "fb3a9834",
   "metadata": {},
   "source": [
    "# Assignment:4\n",
    "1. you have to create one supervisor node.\n",
    "2. create one router function\n",
    "3. create three more node\n",
    "3.1 llm call (llm node)\n",
    "3.2 RAG (rag node)\n",
    "3.3 web crawler(fetch the info in realtime from internet)\n",
    "4. created one more node after this for validation for generated output --> explore the validation part how to do that\n",
    "5. if validation going to be failed in that case again go to supervioser node and then supervisor node will again decide what needs to be call next\n",
    "6. once the validation will pass then only generate the final output\n",
    "\n",
    "submission deadline till 9pm friday\n",
    "\n",
    "submission instruction:\n",
    "create your github repo and keep all the assisgnments over there(in that github repo)\n",
    "i will share one googleform in group after completing your assignment you can share the github link through that google form. "
   ]
  },
  {
   "cell_type": "markdown",
   "id": "b615aa81",
   "metadata": {},
   "source": [
    "### Config the model"
   ]
  },
  {
   "cell_type": "code",
   "execution_count": 510,
   "id": "984ed602",
   "metadata": {},
   "outputs": [
    {
     "name": "stdout",
     "output_type": "stream",
     "text": [
      "Hello! How can I help you today?\n"
     ]
    }
   ],
   "source": [
    "from langchain_openai import ChatOpenAI\n",
    "model = ChatOpenAI(temperature=0.7)\n",
    "output=model.invoke(\"hi\")\n",
    "print(output.content)"
   ]
  },
  {
   "cell_type": "markdown",
   "id": "6a332baf",
   "metadata": {},
   "source": [
    "### Config the embedding model"
   ]
  },
  {
   "cell_type": "code",
   "execution_count": 511,
   "id": "33329575",
   "metadata": {},
   "outputs": [],
   "source": [
    "from langchain_huggingface import HuggingFaceEmbeddings\n",
    "embeddings=HuggingFaceEmbeddings(model_name=\"all-MiniLM-L6-v2\")"
   ]
  },
  {
   "cell_type": "code",
   "execution_count": 512,
   "id": "637893aa",
   "metadata": {},
   "outputs": [],
   "source": [
    "from langchain_community.document_loaders import TextLoader, DirectoryLoader\n",
    "from langchain_community.vectorstores import Chroma\n",
    "from langchain.text_splitter import RecursiveCharacterTextSplitter"
   ]
  },
  {
   "cell_type": "code",
   "execution_count": 513,
   "id": "6a21e612",
   "metadata": {},
   "outputs": [],
   "source": [
    "loader=DirectoryLoader(\"../data2\",glob=\"Internal_HR_Company_Policies.txt\",loader_cls=TextLoader)\n",
    "docs=loader.load()"
   ]
  },
  {
   "cell_type": "code",
   "execution_count": 514,
   "id": "29b4a1c8",
   "metadata": {},
   "outputs": [],
   "source": [
    "text_splitter=RecursiveCharacterTextSplitter(\n",
    "    chunk_size=200,\n",
    "    chunk_overlap=50\n",
    ")\n",
    "\n",
    "new_docs=text_splitter.split_documents(documents=docs)\n",
    "db = Chroma.from_documents(documents=new_docs, embedding=embeddings, persist_directory=None)\n",
    "retriever = db.as_retriever()"
   ]
  },
  {
   "cell_type": "code",
   "execution_count": 515,
   "id": "7df7eee5",
   "metadata": {},
   "outputs": [
    {
     "data": {
      "text/plain": [
       "[Document(metadata={'source': '../data2/Internal_HR_Company_Policies.txt'}, page_content='and operates in 6 countries. It primarily serves clients in the telecom, BFSI, and healthcare sectors.'),\n",
       " Document(metadata={'source': '../data2/Internal_HR_Company_Policies.txt'}, page_content='and operates in 6 countries. It primarily serves clients in the telecom, BFSI, and healthcare sectors.'),\n",
       " Document(metadata={'source': '../data2/Internal_HR_Company_Policies.txt'}, page_content='Document Title: Internal HR & Company Policies – Nexora Technologies Pvt. Ltd.\\n\\nDocument ID: HRPOL-INT-2025-003\\nConfidentiality Level: Internal Use Only\\nLast Updated: May 15, 2025'),\n",
       " Document(metadata={'source': '../data2/Internal_HR_Company_Policies.txt'}, page_content='Document Title: Internal HR & Company Policies – Nexora Technologies Pvt. Ltd.\\n\\nDocument ID: HRPOL-INT-2025-003\\nConfidentiality Level: Internal Use Only\\nLast Updated: May 15, 2025')]"
      ]
     },
     "execution_count": 515,
     "metadata": {},
     "output_type": "execute_result"
    }
   ],
   "source": [
    "retriever.get_relevant_documents(\"iran\")"
   ]
  },
  {
   "cell_type": "code",
   "execution_count": 516,
   "id": "955c4e10",
   "metadata": {},
   "outputs": [],
   "source": [
    "import operator\n",
    "from typing import List\n",
    "from pydantic import BaseModel , Field\n",
    "from typing import TypedDict, Annotated, Sequence\n",
    "from langchain_core.messages import BaseMessage\n",
    "from langchain_core.output_parsers import StrOutputParser\n",
    "from langchain_core.prompts import ChatPromptTemplate, PromptTemplate\n",
    "from langchain_core.messages import HumanMessage, AIMessage\n",
    "from langgraph.graph import StateGraph,END\n",
    "from langchain.schema.runnable import RunnableLambda, RunnablePassthrough\n",
    "from langchain_core.prompts import PromptTemplate\n",
    "from langchain_openai import ChatOpenAI\n",
    "from langchain_community.document_loaders import WebBaseLoader"
   ]
  },
  {
   "cell_type": "code",
   "execution_count": 517,
   "id": "705245c0",
   "metadata": {},
   "outputs": [],
   "source": [
    "from typing import TypedDict, List\n",
    "# class AgentState(TypedDict):\n",
    "#     question: str\n",
    "#     messages: List[str]\n",
    "#     last_route: str\n",
    "#     attempted_routes: List[str]\n",
    "#     validation_passed: bool\n",
    "class AgentState(TypedDict, total=False):\n",
    "    question: str\n",
    "    answer: str\n",
    "    route: str\n",
    "    validated: bool\n",
    "    retrieved_docs: List[str]  # optional, used in RAG\n"
   ]
  },
  {
   "cell_type": "code",
   "execution_count": 518,
   "id": "4a00200d",
   "metadata": {},
   "outputs": [],
   "source": [
    "def initialize_state(question: str) -> AgentState:\n",
    "    return {\n",
    "        \"question\": question,\n",
    "        \"route\": None,\n",
    "        \"answer\": None,\n",
    "        \"validated\": False\n",
    "    }\n"
   ]
  },
  {
   "cell_type": "code",
   "execution_count": 519,
   "id": "6cb75b68",
   "metadata": {},
   "outputs": [],
   "source": [
    "def llm_router(state: AgentState) -> AgentState:\n",
    "    question = state[\"question\"]\n",
    "\n",
    "    route_prompt = PromptTemplate(\n",
    "        template=\"\"\"You are a routing assistant.\n",
    "Decide the best method to answer the question.\n",
    "Options:\n",
    "- \"crawler\" for live or real-time info\n",
    "- \"rag\" for document-based or internal policy questions\n",
    "- \"llm\" for general knowledge\n",
    "\n",
    "Question: {question}\n",
    "Answer with only one word: crawler, rag, or llm.\"\"\",\n",
    "        input_variables=[\"question\"]\n",
    "    )\n",
    "    \n",
    "    chain = route_prompt | model | StrOutputParser()\n",
    "    route = chain.invoke({\"question\": question}).strip().lower()\n",
    "\n",
    "    return {**state, \"route\": route}\n"
   ]
  },
  {
   "cell_type": "code",
   "execution_count": 520,
   "id": "129a258b",
   "metadata": {},
   "outputs": [],
   "source": [
    "def hybrid_router(state: AgentState) -> AgentState:\n",
    "    routed_state = llm_router(state)\n",
    "    route = routed_state[\"route\"]\n",
    "    question = routed_state[\"question\"]\n",
    "\n",
    "    if route == \"rag\":\n",
    "        relevant_docs = retriever.get_relevant_documents(question)\n",
    "        if not relevant_docs:\n",
    "            routed_state[\"route\"] = \"llm\"\n",
    "        else:\n",
    "            routed_state[\"retrieved_docs\"] = relevant_docs\n",
    "    return routed_state\n"
   ]
  },
  {
   "cell_type": "code",
   "execution_count": 521,
   "id": "c859d238",
   "metadata": {},
   "outputs": [
    {
     "data": {
      "text/plain": [
       "{'question': 'What is the use of machine learning', 'route': 'llm'}"
      ]
     },
     "execution_count": 521,
     "metadata": {},
     "output_type": "execute_result"
    }
   ],
   "source": [
    "hybrid_router({\"question\": \"What is the use of machine learning\"})"
   ]
  },
  {
   "cell_type": "code",
   "execution_count": 522,
   "id": "89aadec5",
   "metadata": {},
   "outputs": [],
   "source": [
    "def format_docs(docs):\n",
    "    return \"\\n\\n\".join([doc.page_content for doc in docs])\n",
    "\n",
    "def rag_node(state: AgentState) -> AgentState:\n",
    "    question = state[\"question\"]\n",
    "    docs = retriever.get_relevant_documents(question)\n",
    "    context = format_docs(docs)\n",
    "\n",
    "    prompt = PromptTemplate(\n",
    "        input_variables=[\"context\", \"question\"],\n",
    "        template=\"\"\"You are an assistant for question-answering tasks. Use the context below to answer the question briefly. \n",
    "If you don't know the answer, just say you don't know.\n",
    "\n",
    "Context:\n",
    "{context}\n",
    "\n",
    "Question: {question}\n",
    "\n",
    "Answer:\"\"\"\n",
    "    )\n",
    "    rag_chain = prompt | model | StrOutputParser()\n",
    "    answer = rag_chain.invoke({\"context\": context, \"question\": question})\n",
    "\n",
    "    return {**state, \"answer\": answer, \"route\": \"rag\"}\n"
   ]
  },
  {
   "cell_type": "code",
   "execution_count": 523,
   "id": "b78693c2",
   "metadata": {},
   "outputs": [],
   "source": [
    "def llm_node(state: dict) -> dict:\n",
    "    question = state[\"question\"]\n",
    "    answer = model.invoke(question)\n",
    "    return {**state, \"answer\": answer, \"route\": \"llm\"}"
   ]
  },
  {
   "cell_type": "code",
   "execution_count": 524,
   "id": "773e51d2",
   "metadata": {},
   "outputs": [],
   "source": [
    "from langchain_community.tools.tavily_search import TavilySearchResults\n",
    "\n",
    "def crawler_node(state: dict) -> dict:\n",
    "    question = state[\"question\"]\n",
    "    search = TavilySearchResults()\n",
    "    docs = search.invoke({\"query\": question, \"num_results\": 3})\n",
    "    content = \"\\n\".join([doc[\"content\"] for doc in docs])\n",
    "    prompt = PromptTemplate.from_template(\"Use this search result to answer: {content}\")\n",
    "    chain = prompt | model | StrOutputParser()\n",
    "    answer = chain.invoke({\"content\": content})\n",
    "    \n",
    "    return {**state, \"answer\": answer, \"route\": \"crawler\"}\n"
   ]
  },
  {
   "cell_type": "code",
   "execution_count": 525,
   "id": "f864088a",
   "metadata": {},
   "outputs": [],
   "source": [
    "def validate_node(state: dict) -> dict:\n",
    "    answer = state.get(\"answer\", \"\")\n",
    "    # Check for unwanted phrases indicating hallucinations\n",
    "    bad_phrases = [\"As an AI\", \"I don't have\", \"cannot access\"]\n",
    "    is_valid = not any(p in answer for p in bad_phrases)\n",
    "    return {**state, \"validated\": is_valid}\n"
   ]
  },
  {
   "cell_type": "code",
   "execution_count": 526,
   "id": "53e787d8",
   "metadata": {},
   "outputs": [],
   "source": [
    "def supervisor_node(state: dict) -> dict:\n",
    "    question = state.get(\"question\", \"\")\n",
    "    if not question:\n",
    "        raise ValueError(\"Question must be provided in the state.\")\n",
    "    \n",
    "    print(\"Supervisor received question:\", question)\n",
    "    #state = {\"question\": question}\n",
    "\n",
    "    # Route the question\n",
    "    routed_state = hybrid_router(state)\n",
    "    route = routed_state.get(\"route\")\n",
    "\n",
    "    # Pick node based on route\n",
    "    if route == \"llm\":\n",
    "        print(\"-->Routing to LLM<--\")\n",
    "        routed_state = llm_node(routed_state)\n",
    "    elif route == \"rag\":\n",
    "        print(\"-->Routing to RAG<--\")\n",
    "        routed_state = rag_node(routed_state)\n",
    "    elif route == \"crawler\":\n",
    "        print(\"-->Routing to Crawler<--\")\n",
    "        routed_state = crawler_node(routed_state)\n",
    "    else:\n",
    "        return {**state, \"error\": \"Unable to route question\"}\n",
    "\n",
    "    # Validate the answer\n",
    "    routed_state = validate_node(routed_state)\n",
    "\n",
    "    # If invalid, retry routing once\n",
    "    if not routed_state.get(\"validated\"):\n",
    "        print(\"Validation failed. Re-routing to supervisor.\")\n",
    "        return supervisor_node({\"question\": question})  # Recursive retry\n",
    "    else:\n",
    "        print(\"Answer passed validation.\")\n",
    "\n",
    "    return routed_state\n"
   ]
  },
  {
   "cell_type": "code",
   "execution_count": 527,
   "id": "f6bd09ca",
   "metadata": {},
   "outputs": [
    {
     "name": "stdout",
     "output_type": "stream",
     "text": [
      "Supervisor received question: Can you tell me about the HR Policy of AT&T regarding employee benefits?\n"
     ]
    },
    {
     "name": "stdout",
     "output_type": "stream",
     "text": [
      "-->Routing to RAG<--\n",
      "Validation failed. Re-routing to supervisor.\n",
      "Supervisor received question: Can you tell me about the HR Policy of AT&T regarding employee benefits?\n",
      "-->Routing to RAG<--\n",
      "Validation failed. Re-routing to supervisor.\n",
      "Supervisor received question: Can you tell me about the HR Policy of AT&T regarding employee benefits?\n",
      "-->Routing to RAG<--\n",
      "Validation failed. Re-routing to supervisor.\n",
      "Supervisor received question: Can you tell me about the HR Policy of AT&T regarding employee benefits?\n",
      "-->Routing to RAG<--\n",
      "Validation failed. Re-routing to supervisor.\n",
      "Supervisor received question: Can you tell me about the HR Policy of AT&T regarding employee benefits?\n",
      "-->Routing to RAG<--\n",
      "Validation failed. Re-routing to supervisor.\n",
      "Supervisor received question: Can you tell me about the HR Policy of AT&T regarding employee benefits?\n",
      "-->Routing to RAG<--\n",
      "Answer passed validation.\n",
      "\n",
      "💬 Final Answer: {'question': 'Can you tell me about the HR Policy of AT&T regarding employee benefits?', 'route': 'rag', 'retrieved_docs': [Document(metadata={'source': '../data2/Internal_HR_Company_Policies.txt'}, page_content='2. HR Policies'), Document(metadata={'source': '../data2/Internal_HR_Company_Policies.txt'}, page_content='2. HR Policies'), Document(metadata={'source': '../data2/Internal_HR_Company_Policies.txt'}, page_content='Disclaimer: This document is for internal use only and should not be shared externally. For any clarification, please contact the HR Operations Team.'), Document(metadata={'source': '../data2/Internal_HR_Company_Policies.txt'}, page_content='Disclaimer: This document is for internal use only and should not be shared externally. For any clarification, please contact the HR Operations Team.')], 'answer': \"I'm sorry, I don't know the specific HR policy of AT&T regarding employee benefits. For clarification, please contact the HR Operations Team.\", 'validated': True}\n"
     ]
    }
   ],
   "source": [
    "result = supervisor_node({\"question\": \"Can you tell me about the HR Policy of AT&T regarding employee benefits?\"})\n",
    "print(\"\\n💬 Final Answer:\", result)"
   ]
  },
  {
   "cell_type": "code",
   "execution_count": 528,
   "id": "7202882d",
   "metadata": {},
   "outputs": [
    {
     "data": {
      "text/plain": [
       "\"I'm sorry, I don't know the specific HR policy of AT&T regarding employee benefits. For clarification, please contact the HR Operations Team.\""
      ]
     },
     "execution_count": 528,
     "metadata": {},
     "output_type": "execute_result"
    }
   ],
   "source": [
    "result[\"answer\"]"
   ]
  },
  {
   "cell_type": "code",
   "execution_count": 529,
   "id": "d161ee74",
   "metadata": {},
   "outputs": [],
   "source": [
    "from langgraph.graph import StateGraph,END\n",
    "workflow=StateGraph(AgentState)"
   ]
  },
  {
   "cell_type": "code",
   "execution_count": 530,
   "id": "66fbbded",
   "metadata": {},
   "outputs": [],
   "source": [
    "# workflow.add_node(\"full_conversation\",full_conversation)"
   ]
  },
  {
   "cell_type": "code",
   "execution_count": 531,
   "id": "afcd25e9",
   "metadata": {},
   "outputs": [
    {
     "data": {
      "text/plain": [
       "<langgraph.graph.state.StateGraph at 0x1336c6800>"
      ]
     },
     "execution_count": 531,
     "metadata": {},
     "output_type": "execute_result"
    }
   ],
   "source": [
    "workflow.add_node(\"Supervisor\",supervisor_node)"
   ]
  },
  {
   "cell_type": "code",
   "execution_count": 532,
   "id": "e1e16a2f",
   "metadata": {},
   "outputs": [
    {
     "data": {
      "text/plain": [
       "<langgraph.graph.state.StateGraph at 0x1336c6800>"
      ]
     },
     "execution_count": 532,
     "metadata": {},
     "output_type": "execute_result"
    }
   ],
   "source": [
    "workflow.add_node(\"rag\",rag_node)"
   ]
  },
  {
   "cell_type": "code",
   "execution_count": 533,
   "id": "f8b940ea",
   "metadata": {},
   "outputs": [
    {
     "data": {
      "text/plain": [
       "<langgraph.graph.state.StateGraph at 0x1336c6800>"
      ]
     },
     "execution_count": 533,
     "metadata": {},
     "output_type": "execute_result"
    }
   ],
   "source": [
    "workflow.add_node(\"llm\",llm_node)"
   ]
  },
  {
   "cell_type": "code",
   "execution_count": 534,
   "id": "ee62f3d0",
   "metadata": {},
   "outputs": [
    {
     "data": {
      "text/plain": [
       "<langgraph.graph.state.StateGraph at 0x1336c6800>"
      ]
     },
     "execution_count": 534,
     "metadata": {},
     "output_type": "execute_result"
    }
   ],
   "source": [
    "workflow.add_node(\"crawler\",crawler_node)"
   ]
  },
  {
   "cell_type": "code",
   "execution_count": 535,
   "id": "706128c9",
   "metadata": {},
   "outputs": [
    {
     "data": {
      "text/plain": [
       "<langgraph.graph.state.StateGraph at 0x1336c6800>"
      ]
     },
     "execution_count": 535,
     "metadata": {},
     "output_type": "execute_result"
    }
   ],
   "source": [
    "workflow.add_node(\"validate\", validate_node)"
   ]
  },
  {
   "cell_type": "code",
   "execution_count": 536,
   "id": "4ea675b0",
   "metadata": {},
   "outputs": [
    {
     "data": {
      "text/plain": [
       "<langgraph.graph.state.StateGraph at 0x1336c6800>"
      ]
     },
     "execution_count": 536,
     "metadata": {},
     "output_type": "execute_result"
    }
   ],
   "source": [
    "workflow.set_entry_point(\"Supervisor\")"
   ]
  },
  {
   "cell_type": "code",
   "execution_count": 537,
   "id": "aeb51c5b",
   "metadata": {},
   "outputs": [
    {
     "data": {
      "text/plain": [
       "<langgraph.graph.state.StateGraph at 0x1336c6800>"
      ]
     },
     "execution_count": 537,
     "metadata": {},
     "output_type": "execute_result"
    }
   ],
   "source": [
    "workflow.add_conditional_edges(\"Supervisor\", lambda x: x[\"route\"], {\n",
    "    \"llm\": \"llm\",\n",
    "    \"rag\": \"rag\",\n",
    "    \"crawler\": \"crawler\"\n",
    "})"
   ]
  },
  {
   "cell_type": "code",
   "execution_count": 538,
   "id": "60fecfd1",
   "metadata": {},
   "outputs": [
    {
     "data": {
      "text/plain": [
       "<langgraph.graph.state.StateGraph at 0x1336c6800>"
      ]
     },
     "execution_count": 538,
     "metadata": {},
     "output_type": "execute_result"
    }
   ],
   "source": [
    "workflow.add_edge(\"llm\", \"validate\")\n",
    "workflow.add_edge(\"rag\", \"validate\")\n",
    "workflow.add_edge(\"crawler\", \"validate\")\n",
    "workflow.add_conditional_edges(\n",
    "    \"validate\",\n",
    "    lambda x: \"Supervisor\" if not x.get(\"validated\", False) else END,\n",
    "    {\n",
    "        \"Supervisor\": \"Supervisor\",\n",
    "        END: END\n",
    "    }\n",
    ")\n"
   ]
  },
  {
   "cell_type": "code",
   "execution_count": 539,
   "id": "409ff633",
   "metadata": {},
   "outputs": [],
   "source": [
    "app = workflow.compile()"
   ]
  },
  {
   "cell_type": "code",
   "execution_count": 540,
   "id": "92b41c83",
   "metadata": {},
   "outputs": [],
   "source": [
    "state = initialize_state(\"Tell me about the Airplain crash today in 100 words\")"
   ]
  },
  {
   "cell_type": "code",
   "execution_count": 541,
   "id": "66fea17a",
   "metadata": {},
   "outputs": [
    {
     "data": {
      "text/plain": [
       "{'question': 'Tell me about the Airplain crash today in 100 words',\n",
       " 'route': None,\n",
       " 'answer': None,\n",
       " 'validated': False}"
      ]
     },
     "execution_count": 541,
     "metadata": {},
     "output_type": "execute_result"
    }
   ],
   "source": [
    "state"
   ]
  },
  {
   "cell_type": "code",
   "execution_count": 542,
   "id": "f1409de6",
   "metadata": {},
   "outputs": [
    {
     "name": "stdout",
     "output_type": "stream",
     "text": [
      "Supervisor received question: Tell me about the Airplain crash today in 100 words\n",
      "-->Routing to Crawler<--\n",
      "Answer passed validation.\n"
     ]
    }
   ],
   "source": [
    "result = app.invoke(state)"
   ]
  },
  {
   "cell_type": "code",
   "execution_count": 543,
   "id": "86810552",
   "metadata": {},
   "outputs": [
    {
     "data": {
      "text/plain": [
       "{'question': 'Tell me about the Airplain crash today in 100 words',\n",
       " 'answer': 'The Air India plane, flight AI171, crashed shortly after taking off from Ahmedabad, India on June 12. The crash resulted in the deaths of more than 100 people, with only one survivor, Vishwash Kumar Ramesh. Indian Prime Minister Narendra Modi described the incident as heartbreaking and expressed his condolences to those affected by the tragedy. Rescue operations are ongoing at the crash site, with officials and teams working tirelessly in the aftermath.',\n",
       " 'route': 'crawler',\n",
       " 'validated': True}"
      ]
     },
     "execution_count": 543,
     "metadata": {},
     "output_type": "execute_result"
    }
   ],
   "source": [
    "result  # This will give you the final answer after validation"
   ]
  },
  {
   "cell_type": "code",
   "execution_count": 544,
   "id": "29f645f4",
   "metadata": {},
   "outputs": [
    {
     "data": {
      "image/png": "[encoded data removed]",
      "text/plain": [
       "<IPython.core.display.Image object>"
      ]
     },
     "metadata": {},
     "output_type": "display_data"
    }
   ],
   "source": [
    "from IPython.display import Image, display\n",
    "display(Image(app.get_graph().draw_mermaid_png()))"
   ]
  },
  {
   "cell_type": "code",
   "execution_count": null,
   "id": "44a3001f",
   "metadata": {},
   "outputs": [],
   "source": []
  },
  {
   "cell_type": "code",
   "execution_count": null,
   "id": "b34bff53",
   "metadata": {},
   "outputs": [],
   "source": []
  },
  {
   "cell_type": "code",
   "execution_count": null,
   "id": "76bfcf1c",
   "metadata": {},
   "outputs": [],
   "source": []
  },
  {
   "cell_type": "code",
   "execution_count": null,
   "id": "0851a0da",
   "metadata": {},
   "outputs": [],
   "source": []
  }
 ],
 "metadata": {
  "kernelspec": {
   "display_name": "myenv",
   "language": "python",
   "name": "python3"
  },
  "language_info": {
   "codemirror_mode": {
    "name": "ipython",
    "version": 3
   },
   "file_extension": ".py",
   "mimetype": "text/x-python",
   "name": "python",
   "nbconvert_exporter": "python",
   "pygments_lexer": "ipython3",
   "version": "3.10.18"
  }
 },
 "nbformat": 4,
 "nbformat_minor": 5
}
